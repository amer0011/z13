{
 "cells": [
  {
   "cell_type": "code",
   "execution_count": null,
   "id": "5b20b96b-17a6-4953-9733-a3945a7a7db2",
   "metadata": {},
   "outputs": [],
   "source": [
    "import math\n",
    "\n",
    "print('welcome this is a simple calculator')\n",
    "print('and can calculate some basic math operations')\n",
    "print('like + - * / log exp')\n",
    "\n",
    "#این تابع دو عدد از کاربر می گیرد و این دو عدد را قالب لیستی برمیگرداند\n",
    "def get_two_number():\n",
    "    num1 = int(input('enter number one: '))\n",
    "    num2 = int(input('enter number two: '))\n",
    "    return [num1, num2]\n",
    "\n",
    "#این تابع یک عدد از کاربر می گیرد و آن عدد را برمیگرداند\n",
    "def get_one_number():\n",
    "    return int(input('enter a number: '))\n",
    "\n",
    "#در این جا از کاربر می پرسیم که چه عملیات ریاضی را میخواهد انجام دهد\n",
    "operation = input('please enter a math operations: ')\n",
    "if operation == '+':\n",
    "    #عملیات  جمع دو عدد لازم دارد پس از تابعی استفاده میکنیم که دو عدد از کاربر می گیرد\n",
    "    numbers = get_two_number()\n",
    "    #اندیس صفر همان عدد اول را با اندیس یک جمع و خروجی را چاپ می کنیم\n",
    "    print(numbers[0] + numbers[1])\n",
    "if operation == '-':\n",
    "    numbers = get_two_number()\n",
    "    print(numbers[0] - numbers[1])\n",
    "if operation == '*':\n",
    "    numbers = get_two_number()\n",
    "    print(numbers[0] * numbers[1])\n",
    "if operation == '/':\n",
    "    numbers = get_two_number()\n",
    "    print(numbers[0] / numbers[1])\n",
    "if operation == 'log':\n",
    "    #لگارتیم یک عدد می خواهد پس از تابعی استفاده می کنیم که یک عدد از کاربر می گیرد\n",
    "    number = get_one_number()\n",
    "    #از لایبری ریاضی تابع لگاریتم اجرا می کنیم و عددی که قبلا از کاربر گرفتیم را به ارگومان به تابع لگاریتم می دهیم\n",
    "    print(math.log(number))\n",
    "if operation == 'exp':\n",
    "    number = get_one_number()\n",
    "    print(math.exp(number))\n",
    "    #سیدامیررضاموسوی نژاد\n",
    "    #باکمک هم اتاقی معین دهقانی"
   ]
  },
  {
   "cell_type": "code",
   "execution_count": null,
   "id": "33db972d-0029-4ddc-83a4-e1b5762848ba",
   "metadata": {},
   "outputs": [],
   "source": []
  }
 ],
 "metadata": {
  "kernelspec": {
   "display_name": "Python 3 (ipykernel)",
   "language": "python",
   "name": "python3"
  },
  "language_info": {
   "codemirror_mode": {
    "name": "ipython",
    "version": 3
   },
   "file_extension": ".py",
   "mimetype": "text/x-python",
   "name": "python",
   "nbconvert_exporter": "python",
   "pygments_lexer": "ipython3",
   "version": "3.12.0"
  }
 },
 "nbformat": 4,
 "nbformat_minor": 5
}
